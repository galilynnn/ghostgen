{
  "nbformat": 4,
  "nbformat_minor": 0,
  "metadata": {
    "colab": {
      "provenance": [],
      "collapsed_sections": [],
      "authorship_tag": "ABX9TyOb43+DuGcJKsk9+dfH12nW",
      "include_colab_link": true
    },
    "kernelspec": {
      "name": "python3",
      "display_name": "Python 3"
    },
    "language_info": {
      "name": "python"
    }
  },
  "cells": [
    {
      "cell_type": "markdown",
      "metadata": {
        "id": "view-in-github",
        "colab_type": "text"
      },
      "source": [
        "<a href=\"https://colab.research.google.com/github/galilynnn/ghostgen/blob/main/Gen_Demo1.ipynb\" target=\"_parent\"><img src=\"https://colab.research.google.com/assets/colab-badge.svg\" alt=\"Open In Colab\"/></a>"
      ]
    },
    {
      "cell_type": "markdown",
      "source": [
        "# -"
      ],
      "metadata": {
        "id": "eA9R-wE-00Es"
      }
    },
    {
      "cell_type": "code",
      "execution_count": 8,
      "metadata": {
        "colab": {
          "base_uri": "https://localhost:8080/"
        },
        "id": "FlZhaMbYmAzk",
        "outputId": "223af3cb-163b-49b6-d9b2-909baec76ed9"
      },
      "outputs": [
        {
          "output_type": "stream",
          "name": "stdout",
          "text": [
            "Looking in indexes: https://pypi.org/simple, https://us-python.pkg.dev/colab-wheels/public/simple/\n",
            "Requirement already satisfied: padthai in /usr/local/lib/python3.7/dist-packages (0.1.2)\n",
            "Requirement already satisfied: transformers<5.0 in /usr/local/lib/python3.7/dist-packages (from padthai) (4.22.2)\n",
            "Requirement already satisfied: huggingface-hub<1.0,>=0.9.0 in /usr/local/lib/python3.7/dist-packages (from transformers<5.0->padthai) (0.10.0)\n",
            "Requirement already satisfied: regex!=2019.12.17 in /usr/local/lib/python3.7/dist-packages (from transformers<5.0->padthai) (2022.6.2)\n",
            "Requirement already satisfied: packaging>=20.0 in /usr/local/lib/python3.7/dist-packages (from transformers<5.0->padthai) (21.3)\n",
            "Requirement already satisfied: tqdm>=4.27 in /usr/local/lib/python3.7/dist-packages (from transformers<5.0->padthai) (4.64.1)\n",
            "Requirement already satisfied: numpy>=1.17 in /usr/local/lib/python3.7/dist-packages (from transformers<5.0->padthai) (1.21.6)\n",
            "Requirement already satisfied: pyyaml>=5.1 in /usr/local/lib/python3.7/dist-packages (from transformers<5.0->padthai) (6.0)\n",
            "Requirement already satisfied: filelock in /usr/local/lib/python3.7/dist-packages (from transformers<5.0->padthai) (3.8.0)\n",
            "Requirement already satisfied: requests in /usr/local/lib/python3.7/dist-packages (from transformers<5.0->padthai) (2.23.0)\n",
            "Requirement already satisfied: tokenizers!=0.11.3,<0.13,>=0.11.1 in /usr/local/lib/python3.7/dist-packages (from transformers<5.0->padthai) (0.12.1)\n",
            "Requirement already satisfied: importlib-metadata in /usr/local/lib/python3.7/dist-packages (from transformers<5.0->padthai) (5.0.0)\n",
            "Requirement already satisfied: typing-extensions>=3.7.4.3 in /usr/local/lib/python3.7/dist-packages (from huggingface-hub<1.0,>=0.9.0->transformers<5.0->padthai) (4.1.1)\n",
            "Requirement already satisfied: pyparsing!=3.0.5,>=2.0.2 in /usr/local/lib/python3.7/dist-packages (from packaging>=20.0->transformers<5.0->padthai) (3.0.9)\n",
            "Requirement already satisfied: zipp>=0.5 in /usr/local/lib/python3.7/dist-packages (from importlib-metadata->transformers<5.0->padthai) (3.8.1)\n",
            "Requirement already satisfied: chardet<4,>=3.0.2 in /usr/local/lib/python3.7/dist-packages (from requests->transformers<5.0->padthai) (3.0.4)\n",
            "Requirement already satisfied: certifi>=2017.4.17 in /usr/local/lib/python3.7/dist-packages (from requests->transformers<5.0->padthai) (2022.9.24)\n",
            "Requirement already satisfied: urllib3!=1.25.0,!=1.25.1,<1.26,>=1.21.1 in /usr/local/lib/python3.7/dist-packages (from requests->transformers<5.0->padthai) (1.24.3)\n",
            "Requirement already satisfied: idna<3,>=2.5 in /usr/local/lib/python3.7/dist-packages (from requests->transformers<5.0->padthai) (2.10)\n"
          ]
        }
      ],
      "source": [
        "!pip install padthai\n",
        "import pandas as pd\n",
        "from padthai import *"
      ]
    },
    {
      "cell_type": "code",
      "source": [
        "from google.colab import drive #https://drive.google.com/drive/folders/1VDqv8VrrQA4opbzv8E64zbga_g3U3IsA?usp=sharing\n",
        "drive.mount('/content/drive')\n",
        "path = ('/content/drive/MyDrive/data/ghostcheckpoint-123310')"
      ],
      "metadata": {
        "colab": {
          "base_uri": "https://localhost:8080/"
        },
        "id": "lGKhBB8dolJk",
        "outputId": "66778248-a1df-4271-d75c-062493fe6c10"
      },
      "execution_count": 18,
      "outputs": [
        {
          "output_type": "stream",
          "name": "stdout",
          "text": [
            "Drive already mounted at /content/drive; to attempt to forcibly remount, call drive.mount(\"/content/drive\", force_remount=True).\n"
          ]
        }
      ]
    },
    {
      "cell_type": "code",
      "source": [
        "ghost_model = FlaxGPT2FewShot('path*') #LOAD"
      ],
      "metadata": {
        "id": "V1hHXfb6mEp7"
      },
      "execution_count": 40,
      "outputs": []
    },
    {
      "cell_type": "code",
      "source": [
        "ghost_model.gen(\"กลางดึกคืนหนึ่ง ณ สาธิตชื่อดังย่านรังสิต\", max_length=500, num_return_sequences=1)"
      ],
      "metadata": {
        "colab": {
          "base_uri": "https://localhost:8080/"
        },
        "id": "YkHBRnbumEl6",
        "outputId": "a6ffcf3e-6089-4c34-cf2c-114b4222bc68"
      },
      "execution_count": 41,
      "outputs": [
        {
          "output_type": "stream",
          "name": "stderr",
          "text": [
            "The attention mask and the pad token id were not set. As a consequence, you may observe unexpected behavior. Please pass your input's `attention_mask` to obtain reliable results.\n",
            "Setting `pad_token_id` to `eos_token_id`:50256 for open-end generation.\n"
          ]
        },
        {
          "output_type": "execute_result",
          "data": {
            "text/plain": [
              "['กลางดึกคืนหนึ่ง ณ สาธิตชื่อดังย่านรังสิต\\nเมื่อเวลาประมาณ 3.00 น.เศษ มีนักท่องเที่ยวลงจากรถปั๊มนำตัวศพไปร่วมกิจกรรม ท่ามกลางสายตาของผู้โดยสารเป็นจำนวนมากจากด้านบน ผู้ตายไม่ได้สติ ตัวติดกันติดภายในรถมีผู้ชาย 2 คน และผู้หญิง 1 คน กำลังนั่งคุยกันอยู่อย่างเสียงอ้อน หลังจากเจ้าหน้าที่ต้องมาถึง เกิดหลับในบริเวณที่นั่งติดกันเกิดอุบัติเหตุจนรถเสียหลักไปโดนรถแท็กซี่มิเตอร์ที่กำลังผ่านมา ได้นำศพไปยังที่เกิดเหตุ เพื่อเข้าสู่กระบวนการชันสูตร ซึ่งที่เกิดเหตุอยู่ข้างสระน้ำ\\nสอบสวน นางน้อย เพ็ญดี อายุ 38 ปี พร้อมภรรยากำลังยืนรออยู่บริเวณหน้าบ้านหลังดังกล่าว อยู่ด้านหน้าบ้าน เจ้าหน้าที่จึงแสดงตัวเข้าจับกุมในข้อหา เมาแล้วขับ และเรียก ผู้โดยสารมาคนเดียว พร้อมทั้งแสดงเอกสารและใบคำร้องเรียนไว้ที่สถานีตำรวจนครบาลรังสิต ท่ามกลางผู้ใจดีอย่างนางธัญรสพร้อมของกลางอุปกรณ์การเสพยาจำหน่ายส่งมาให้ตรวจสอบ\\nจากการสอบสวนทราบว่า ผู้ตายได้นำลูกสาววัย 3 เดือน ไปผ่าร่างดังกล่าว ซึ่งตอนที่ผู้ตายผ่านมาขณะที่รอขับรถแท็กซี่มิเตอร์ผ่านร่างไปนั้น นางธัญรสพร้อมทั้งทนายมีอุปกรณ์และยาเสพติดมาให้เพื่อเอ']"
            ]
          },
          "metadata": {},
          "execution_count": 41
        }
      ]
    },
    {
      "cell_type": "markdown",
      "source": [
        "FineTune\n"
      ],
      "metadata": {
        "id": "mdais3uk0wEK"
      }
    },
    {
      "cell_type": "code",
      "source": [
        "import glob\n",
        "import os"
      ],
      "metadata": {
        "id": "SwwfdF_F1Joy"
      },
      "execution_count": 42,
      "outputs": []
    },
    {
      "cell_type": "code",
      "source": [
        "for ghost in glob.glob('path'):\n",
        "    if ghost.split('\\n'+'.')[-1]=='json':\n",
        "        os.remove(ghost)"
      ],
      "metadata": {
        "id": "mc0ro1op1Sau"
      },
      "execution_count": 43,
      "outputs": []
    },
    {
      "cell_type": "code",
      "source": [
        "x = glob.glob('path')\n",
        "x"
      ],
      "metadata": {
        "colab": {
          "base_uri": "https://localhost:8080/"
        },
        "id": "QvRgaeoo1VEf",
        "outputId": "bc91e17e-1238-4a55-adbe-63bdcbe085eb"
      },
      "execution_count": 44,
      "outputs": [
        {
          "output_type": "execute_result",
          "data": {
            "text/plain": [
              "['path']"
            ]
          },
          "metadata": {},
          "execution_count": 44
        }
      ]
    },
    {
      "cell_type": "code",
      "source": [
        "fname =x[0]\n",
        "label = x[0].split('/')[0]\n",
        "label, fname"
      ],
      "metadata": {
        "colab": {
          "base_uri": "https://localhost:8080/"
        },
        "id": "_hg6aVPY1YlK",
        "outputId": "e42757c8-db04-47b5-da0a-41e4322df297"
      },
      "execution_count": 45,
      "outputs": [
        {
          "output_type": "execute_result",
          "data": {
            "text/plain": [
              "('path', 'path')"
            ]
          },
          "metadata": {},
          "execution_count": 45
        }
      ]
    },
    {
      "cell_type": "code",
      "source": [
        "ghost_model.gen(\"กลางดึกคืนหนึ่ง ณ สาธิตชื่อดังย่านรังสิต\",max_length=500,num_return_sequences=1)"
      ],
      "metadata": {
        "colab": {
          "base_uri": "https://localhost:8080/"
        },
        "id": "e3YTbQr11bOB",
        "outputId": "e8c4988d-4622-414b-9a1f-eb26b174a272"
      },
      "execution_count": 47,
      "outputs": [
        {
          "output_type": "stream",
          "name": "stderr",
          "text": [
            "The attention mask and the pad token id were not set. As a consequence, you may observe unexpected behavior. Please pass your input's `attention_mask` to obtain reliable results.\n",
            "Setting `pad_token_id` to `eos_token_id`:50256 for open-end generation.\n"
          ]
        },
        {
          "output_type": "execute_result",
          "data": {
            "text/plain": [
              "['กลางดึกคืนหนึ่ง ณ สาธิตชื่อดังย่านรังสิต มีเด็กนักเรียนชาย 1 คน เดินเข้ามาทำความสะอาดบริเวณภายในโรงเรียน\\nด้านเจ้าหน้าที่หน่วยบริการได้ชี้แจงว่า เหตุการณ์ดังกล่าวเกิดขึ้นที่ บริษัท อินเทลลิเคม จำกัด ซึ่งเป็นบริษัทรับเหมาก่อสร้าง ซึ่งมีนักเรียนหญิงดูและทำกิจกรรมอื่นๆ อีกเป็นจำนวนมาก โดยทางนักเรียนส่วนมากอยู่ในวัยทำงาน ซึ่งบริษัทได้มอบหมายให้นักเรียนหญิงก่อสร้างโรงเรียนเอง เพื่อให้นักเรียนในโรงเรียนได้ร่วมกิจกรรมต่างๆ ในด้านบริษัทฯ มีการสร้างรั้ว บริษัท อินเทลลิเคม จำกัด ที่บริเวณหน้าสาธิตและอาคารเรียนรวม\\nสำหรับในขณะนี้มีบริษัท อินเทลลิเคม จำกัด เป็นบริษัทรับเหมาก่อสร้าง อยู่ในบริเวณตลาดสามแยกวิจิตรวรการ ถนนแจ้งวัฒนะ มีผู้ค้าตลาดสามแยกวิจิตรวรการ ได้เริ่มดำเนินการสร้างรั้ว บริษัท อินเทลลิเคม จำกัด เรียบร้อยแล้ว\\nอย่างไรก็ตามยังมีนักเรียนจากทั่วประเทศมีจิตศรัทธาร่วมกันบริจาคเงินให้กับมูลนิธิจุฬาภรณ์ผู้ป่วยมะเร็งเต้านมยากไร้ หรือมีความต้องการพัฒนาศักยภาพของบุคลากรโรงพยาบาล\\nสำหรับ รพ.ราชวิถี จัดทำห้องให้บริการผู้ป่วยอุบัติเหตุช่องปาก อีกทั้งสามารถเข้าถึงเครื่องมือต่']"
            ]
          },
          "metadata": {},
          "execution_count": 47
        }
      ]
    }
  ]
}