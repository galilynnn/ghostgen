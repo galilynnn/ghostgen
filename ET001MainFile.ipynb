{
  "cells": [
    {
      "cell_type": "markdown",
      "metadata": {
        "id": "view-in-github",
        "colab_type": "text"
      },
      "source": [
        "<a href=\"https://colab.research.google.com/github/galilynnn/ghostgen/blob/main/ET001MainFile.ipynb\" target=\"_parent\"><img src=\"https://colab.research.google.com/assets/colab-badge.svg\" alt=\"Open In Colab\"/></a>"
      ]
    },
    {
      "cell_type": "markdown",
      "metadata": {
        "id": "mWLsa0A_0lBk"
      },
      "source": [
        "\n",
        "# TXT Gen\n"
      ]
    },
    {
      "cell_type": "code",
      "execution_count": null,
      "metadata": {
        "colab": {
          "base_uri": "https://localhost:8080/"
        },
        "id": "RB57xzn-DnPJ",
        "outputId": "c6f68830-875a-43ec-e672-200372e9c1a8"
      },
      "outputs": [
        {
          "output_type": "stream",
          "name": "stdout",
          "text": [
            "Drive already mounted at /content/drive; to attempt to forcibly remount, call drive.mount(\"/content/drive\", force_remount=True).\n"
          ]
        }
      ],
      "source": [
        "from google.colab import drive\n",
        "drive.mount('/content/drive')\n",
        "path = '/content/drive/MyDrive/ghostdata'"
      ]
    },
    {
      "cell_type": "code",
      "execution_count": null,
      "metadata": {
        "colab": {
          "base_uri": "https://localhost:8080/"
        },
        "id": "fAc2_rqiqHkp",
        "outputId": "fee51a88-68d6-41ce-c748-e9d66bf0e18a"
      },
      "outputs": [
        {
          "output_type": "stream",
          "name": "stdout",
          "text": [
            "Looking in indexes: https://pypi.org/simple, https://us-python.pkg.dev/colab-wheels/public/simple/\n",
            "Requirement already satisfied: pythainlp in /usr/local/lib/python3.7/dist-packages (3.1.0)\n",
            "Requirement already satisfied: requests>=2.22.0 in /usr/local/lib/python3.7/dist-packages (from pythainlp) (2.23.0)\n",
            "Requirement already satisfied: certifi>=2017.4.17 in /usr/local/lib/python3.7/dist-packages (from requests>=2.22.0->pythainlp) (2022.9.24)\n",
            "Requirement already satisfied: urllib3!=1.25.0,!=1.25.1,<1.26,>=1.21.1 in /usr/local/lib/python3.7/dist-packages (from requests>=2.22.0->pythainlp) (1.24.3)\n",
            "Requirement already satisfied: chardet<4,>=3.0.2 in /usr/local/lib/python3.7/dist-packages (from requests>=2.22.0->pythainlp) (3.0.4)\n",
            "Requirement already satisfied: idna<3,>=2.5 in /usr/local/lib/python3.7/dist-packages (from requests>=2.22.0->pythainlp) (2.10)\n",
            "Looking in indexes: https://pypi.org/simple, https://us-python.pkg.dev/colab-wheels/public/simple/\n",
            "Requirement already satisfied: python-crfsuite in /usr/local/lib/python3.7/dist-packages (0.9.8)\n",
            "Looking in indexes: https://pypi.org/simple, https://us-python.pkg.dev/colab-wheels/public/simple/\n",
            "Requirement already satisfied: padthai in /usr/local/lib/python3.7/dist-packages (0.1.2)\n",
            "Requirement already satisfied: transformers<5.0 in /usr/local/lib/python3.7/dist-packages (from padthai) (4.22.2)\n",
            "Requirement already satisfied: tqdm>=4.27 in /usr/local/lib/python3.7/dist-packages (from transformers<5.0->padthai) (4.64.1)\n",
            "Requirement already satisfied: pyyaml>=5.1 in /usr/local/lib/python3.7/dist-packages (from transformers<5.0->padthai) (6.0)\n",
            "Requirement already satisfied: importlib-metadata in /usr/local/lib/python3.7/dist-packages (from transformers<5.0->padthai) (5.0.0)\n",
            "Requirement already satisfied: tokenizers!=0.11.3,<0.13,>=0.11.1 in /usr/local/lib/python3.7/dist-packages (from transformers<5.0->padthai) (0.12.1)\n",
            "Requirement already satisfied: packaging>=20.0 in /usr/local/lib/python3.7/dist-packages (from transformers<5.0->padthai) (21.3)\n",
            "Requirement already satisfied: huggingface-hub<1.0,>=0.9.0 in /usr/local/lib/python3.7/dist-packages (from transformers<5.0->padthai) (0.10.0)\n",
            "Requirement already satisfied: requests in /usr/local/lib/python3.7/dist-packages (from transformers<5.0->padthai) (2.23.0)\n",
            "Requirement already satisfied: regex!=2019.12.17 in /usr/local/lib/python3.7/dist-packages (from transformers<5.0->padthai) (2022.6.2)\n",
            "Requirement already satisfied: filelock in /usr/local/lib/python3.7/dist-packages (from transformers<5.0->padthai) (3.8.0)\n",
            "Requirement already satisfied: numpy>=1.17 in /usr/local/lib/python3.7/dist-packages (from transformers<5.0->padthai) (1.21.6)\n",
            "Requirement already satisfied: typing-extensions>=3.7.4.3 in /usr/local/lib/python3.7/dist-packages (from huggingface-hub<1.0,>=0.9.0->transformers<5.0->padthai) (4.1.1)\n",
            "Requirement already satisfied: pyparsing!=3.0.5,>=2.0.2 in /usr/local/lib/python3.7/dist-packages (from packaging>=20.0->transformers<5.0->padthai) (3.0.9)\n",
            "Requirement already satisfied: zipp>=0.5 in /usr/local/lib/python3.7/dist-packages (from importlib-metadata->transformers<5.0->padthai) (3.8.1)\n",
            "Requirement already satisfied: certifi>=2017.4.17 in /usr/local/lib/python3.7/dist-packages (from requests->transformers<5.0->padthai) (2022.9.24)\n",
            "Requirement already satisfied: idna<3,>=2.5 in /usr/local/lib/python3.7/dist-packages (from requests->transformers<5.0->padthai) (2.10)\n",
            "Requirement already satisfied: urllib3!=1.25.0,!=1.25.1,<1.26,>=1.21.1 in /usr/local/lib/python3.7/dist-packages (from requests->transformers<5.0->padthai) (1.24.3)\n",
            "Requirement already satisfied: chardet<4,>=3.0.2 in /usr/local/lib/python3.7/dist-packages (from requests->transformers<5.0->padthai) (3.0.4)\n"
          ]
        }
      ],
      "source": [
        "!pip install pythainlp \n",
        "!pip install python-crfsuite\n",
        "!pip install padthai\n",
        "\n",
        "import pandas as pd\n",
        "from pythainlp.tokenize import sent_tokenize\n",
        "from padthai import *\n",
        "from tqdm.auto import tqdm"
      ]
    },
    {
      "cell_type": "code",
      "execution_count": null,
      "metadata": {
        "id": "U8GztN04bbkQ"
      },
      "outputs": [],
      "source": [
        "df = pd.read_csv('/content/drive/MyDrive/ghostdata/ghost.csv').iloc[:,:5]"
      ]
    },
    {
      "cell_type": "code",
      "source": [
        "df"
      ],
      "metadata": {
        "colab": {
          "base_uri": "https://localhost:8080/",
          "height": 424
        },
        "id": "RoiTHmg1m-6F",
        "outputId": "71cff5d3-f68d-4994-86b2-9ec71143a00d"
      },
      "execution_count": null,
      "outputs": [
        {
          "output_type": "execute_result",
          "data": {
            "text/plain": [
              "            headline_abridged  \\\n",
              "0               729 ศาลริมทาง   \n",
              "1           728 คืนเฝ้าเพื่อน   \n",
              "2                 727 ชะตาขาด   \n",
              "3             726 นอนใต้เตียง   \n",
              "4    725 บ้านเช่าร้านเสื้อผ้า   \n",
              "..                        ...   \n",
              "907               รถไฟกลางป่า   \n",
              "908            โรงแรมผีบางแสน   \n",
              "909                   เบญจเพส   \n",
              "910            มึงใส่พระเหรอ?   \n",
              "911                   แอบซ่อน   \n",
              "\n",
              "                                                   url  page  \\\n",
              "0                https://www.thehouse.online/story729/     1   \n",
              "1                https://www.thehouse.online/story728/     1   \n",
              "2                https://www.thehouse.online/story727/     1   \n",
              "3                https://www.thehouse.online/story726/     1   \n",
              "4                https://www.thehouse.online/story725/     1   \n",
              "..                                                 ...   ...   \n",
              "907  https://xn--12c7c1axl9b.com/%e0%b8%a3%e0%b8%96...    15   \n",
              "908  https://xn--12c7c1axl9b.com/%e0%b9%82%e0%b8%a3...    16   \n",
              "909  https://xn--12c7c1axl9b.com/%e0%b9%80%e0%b8%9a...    16   \n",
              "910  https://xn--12c7c1axl9b.com/%e0%b8%a1%e0%b8%b6...    16   \n",
              "911  https://xn--12c7c1axl9b.com/%e0%b9%81%e0%b8%ad...    16   \n",
              "\n",
              "                    post_head  \\\n",
              "0               729 ศาลริมทาง   \n",
              "1           728 คืนเฝ้าเพื่อน   \n",
              "2                 727 ชะตาขาด   \n",
              "3             726 นอนใต้เตียง   \n",
              "4    725 บ้านเช่าร้านเสื้อผ้า   \n",
              "..                        ...   \n",
              "907               รถไฟกลางป่า   \n",
              "908            โรงแรมผีบางแสน   \n",
              "909                   เบญจเพส   \n",
              "910            มึงใส่พระเหรอ?   \n",
              "911                   แอบซ่อน   \n",
              "\n",
              "                                             post_desc  \n",
              "0    เรื่องนี้ส่งมาจากคุณ มิสเตอร์แคท (นามสมมติ) คร...  \n",
              "1    เรื่องนี้ส่งมาจากคุณติ๊ก เมตุนครับ คุณติ๊กเล่า...  \n",
              "2    เรื่องนี้ส่งมาจากคุณแนนครับ คุณแนนเล่าว่า.. ย้...  \n",
              "3    เรื่องนี้เป็นอีกเรื่องจากคุณเลิฟครับ คุณเลิฟเล...  \n",
              "4    เรื่องนี้ส่งมาจากคุณแอล (นามสมมติ) ครับ คุณแอล...  \n",
              "..                                                 ...  \n",
              "907  ผมเป็นลูกแหง่ติดพ่อครับ สมัยผมเด็ก ๆ มักจะร้อง...  \n",
              "908  เวลาผมจะไปนอนที่อื่นผมจะต้องพกเหรียญพระนางจามเ...  \n",
              "909  เรื่องเกิดขึ้นเมื่อปีที่แล้ว เราบอกบอกก่อนว่าเ...  \n",
              "910  เรื่องนี้เป็นเหตุการณ์จริงจากหนุ่มใต้คนหนึ่งที...  \n",
              "911  นี่เป็นอีกเรื่อง ผีหลอก จากหมายเลขสมาชิกพันธ์ท...  \n",
              "\n",
              "[912 rows x 5 columns]"
            ],
            "text/html": [
              "\n",
              "  <div id=\"df-eb642ec8-1af0-4880-b719-9105f7791d27\">\n",
              "    <div class=\"colab-df-container\">\n",
              "      <div>\n",
              "<style scoped>\n",
              "    .dataframe tbody tr th:only-of-type {\n",
              "        vertical-align: middle;\n",
              "    }\n",
              "\n",
              "    .dataframe tbody tr th {\n",
              "        vertical-align: top;\n",
              "    }\n",
              "\n",
              "    .dataframe thead th {\n",
              "        text-align: right;\n",
              "    }\n",
              "</style>\n",
              "<table border=\"1\" class=\"dataframe\">\n",
              "  <thead>\n",
              "    <tr style=\"text-align: right;\">\n",
              "      <th></th>\n",
              "      <th>headline_abridged</th>\n",
              "      <th>url</th>\n",
              "      <th>page</th>\n",
              "      <th>post_head</th>\n",
              "      <th>post_desc</th>\n",
              "    </tr>\n",
              "  </thead>\n",
              "  <tbody>\n",
              "    <tr>\n",
              "      <th>0</th>\n",
              "      <td>729 ศาลริมทาง</td>\n",
              "      <td>https://www.thehouse.online/story729/</td>\n",
              "      <td>1</td>\n",
              "      <td>729 ศาลริมทาง</td>\n",
              "      <td>เรื่องนี้ส่งมาจากคุณ มิสเตอร์แคท (นามสมมติ) คร...</td>\n",
              "    </tr>\n",
              "    <tr>\n",
              "      <th>1</th>\n",
              "      <td>728 คืนเฝ้าเพื่อน</td>\n",
              "      <td>https://www.thehouse.online/story728/</td>\n",
              "      <td>1</td>\n",
              "      <td>728 คืนเฝ้าเพื่อน</td>\n",
              "      <td>เรื่องนี้ส่งมาจากคุณติ๊ก เมตุนครับ คุณติ๊กเล่า...</td>\n",
              "    </tr>\n",
              "    <tr>\n",
              "      <th>2</th>\n",
              "      <td>727 ชะตาขาด</td>\n",
              "      <td>https://www.thehouse.online/story727/</td>\n",
              "      <td>1</td>\n",
              "      <td>727 ชะตาขาด</td>\n",
              "      <td>เรื่องนี้ส่งมาจากคุณแนนครับ คุณแนนเล่าว่า.. ย้...</td>\n",
              "    </tr>\n",
              "    <tr>\n",
              "      <th>3</th>\n",
              "      <td>726 นอนใต้เตียง</td>\n",
              "      <td>https://www.thehouse.online/story726/</td>\n",
              "      <td>1</td>\n",
              "      <td>726 นอนใต้เตียง</td>\n",
              "      <td>เรื่องนี้เป็นอีกเรื่องจากคุณเลิฟครับ คุณเลิฟเล...</td>\n",
              "    </tr>\n",
              "    <tr>\n",
              "      <th>4</th>\n",
              "      <td>725 บ้านเช่าร้านเสื้อผ้า</td>\n",
              "      <td>https://www.thehouse.online/story725/</td>\n",
              "      <td>1</td>\n",
              "      <td>725 บ้านเช่าร้านเสื้อผ้า</td>\n",
              "      <td>เรื่องนี้ส่งมาจากคุณแอล (นามสมมติ) ครับ คุณแอล...</td>\n",
              "    </tr>\n",
              "    <tr>\n",
              "      <th>...</th>\n",
              "      <td>...</td>\n",
              "      <td>...</td>\n",
              "      <td>...</td>\n",
              "      <td>...</td>\n",
              "      <td>...</td>\n",
              "    </tr>\n",
              "    <tr>\n",
              "      <th>907</th>\n",
              "      <td>รถไฟกลางป่า</td>\n",
              "      <td>https://xn--12c7c1axl9b.com/%e0%b8%a3%e0%b8%96...</td>\n",
              "      <td>15</td>\n",
              "      <td>รถไฟกลางป่า</td>\n",
              "      <td>ผมเป็นลูกแหง่ติดพ่อครับ สมัยผมเด็ก ๆ มักจะร้อง...</td>\n",
              "    </tr>\n",
              "    <tr>\n",
              "      <th>908</th>\n",
              "      <td>โรงแรมผีบางแสน</td>\n",
              "      <td>https://xn--12c7c1axl9b.com/%e0%b9%82%e0%b8%a3...</td>\n",
              "      <td>16</td>\n",
              "      <td>โรงแรมผีบางแสน</td>\n",
              "      <td>เวลาผมจะไปนอนที่อื่นผมจะต้องพกเหรียญพระนางจามเ...</td>\n",
              "    </tr>\n",
              "    <tr>\n",
              "      <th>909</th>\n",
              "      <td>เบญจเพส</td>\n",
              "      <td>https://xn--12c7c1axl9b.com/%e0%b9%80%e0%b8%9a...</td>\n",
              "      <td>16</td>\n",
              "      <td>เบญจเพส</td>\n",
              "      <td>เรื่องเกิดขึ้นเมื่อปีที่แล้ว เราบอกบอกก่อนว่าเ...</td>\n",
              "    </tr>\n",
              "    <tr>\n",
              "      <th>910</th>\n",
              "      <td>มึงใส่พระเหรอ?</td>\n",
              "      <td>https://xn--12c7c1axl9b.com/%e0%b8%a1%e0%b8%b6...</td>\n",
              "      <td>16</td>\n",
              "      <td>มึงใส่พระเหรอ?</td>\n",
              "      <td>เรื่องนี้เป็นเหตุการณ์จริงจากหนุ่มใต้คนหนึ่งที...</td>\n",
              "    </tr>\n",
              "    <tr>\n",
              "      <th>911</th>\n",
              "      <td>แอบซ่อน</td>\n",
              "      <td>https://xn--12c7c1axl9b.com/%e0%b9%81%e0%b8%ad...</td>\n",
              "      <td>16</td>\n",
              "      <td>แอบซ่อน</td>\n",
              "      <td>นี่เป็นอีกเรื่อง ผีหลอก จากหมายเลขสมาชิกพันธ์ท...</td>\n",
              "    </tr>\n",
              "  </tbody>\n",
              "</table>\n",
              "<p>912 rows × 5 columns</p>\n",
              "</div>\n",
              "      <button class=\"colab-df-convert\" onclick=\"convertToInteractive('df-eb642ec8-1af0-4880-b719-9105f7791d27')\"\n",
              "              title=\"Convert this dataframe to an interactive table.\"\n",
              "              style=\"display:none;\">\n",
              "        \n",
              "  <svg xmlns=\"http://www.w3.org/2000/svg\" height=\"24px\"viewBox=\"0 0 24 24\"\n",
              "       width=\"24px\">\n",
              "    <path d=\"M0 0h24v24H0V0z\" fill=\"none\"/>\n",
              "    <path d=\"M18.56 5.44l.94 2.06.94-2.06 2.06-.94-2.06-.94-.94-2.06-.94 2.06-2.06.94zm-11 1L8.5 8.5l.94-2.06 2.06-.94-2.06-.94L8.5 2.5l-.94 2.06-2.06.94zm10 10l.94 2.06.94-2.06 2.06-.94-2.06-.94-.94-2.06-.94 2.06-2.06.94z\"/><path d=\"M17.41 7.96l-1.37-1.37c-.4-.4-.92-.59-1.43-.59-.52 0-1.04.2-1.43.59L10.3 9.45l-7.72 7.72c-.78.78-.78 2.05 0 2.83L4 21.41c.39.39.9.59 1.41.59.51 0 1.02-.2 1.41-.59l7.78-7.78 2.81-2.81c.8-.78.8-2.07 0-2.86zM5.41 20L4 18.59l7.72-7.72 1.47 1.35L5.41 20z\"/>\n",
              "  </svg>\n",
              "      </button>\n",
              "      \n",
              "  <style>\n",
              "    .colab-df-container {\n",
              "      display:flex;\n",
              "      flex-wrap:wrap;\n",
              "      gap: 12px;\n",
              "    }\n",
              "\n",
              "    .colab-df-convert {\n",
              "      background-color: #E8F0FE;\n",
              "      border: none;\n",
              "      border-radius: 50%;\n",
              "      cursor: pointer;\n",
              "      display: none;\n",
              "      fill: #1967D2;\n",
              "      height: 32px;\n",
              "      padding: 0 0 0 0;\n",
              "      width: 32px;\n",
              "    }\n",
              "\n",
              "    .colab-df-convert:hover {\n",
              "      background-color: #E2EBFA;\n",
              "      box-shadow: 0px 1px 2px rgba(60, 64, 67, 0.3), 0px 1px 3px 1px rgba(60, 64, 67, 0.15);\n",
              "      fill: #174EA6;\n",
              "    }\n",
              "\n",
              "    [theme=dark] .colab-df-convert {\n",
              "      background-color: #3B4455;\n",
              "      fill: #D2E3FC;\n",
              "    }\n",
              "\n",
              "    [theme=dark] .colab-df-convert:hover {\n",
              "      background-color: #434B5C;\n",
              "      box-shadow: 0px 1px 3px 1px rgba(0, 0, 0, 0.15);\n",
              "      filter: drop-shadow(0px 1px 2px rgba(0, 0, 0, 0.3));\n",
              "      fill: #FFFFFF;\n",
              "    }\n",
              "  </style>\n",
              "\n",
              "      <script>\n",
              "        const buttonEl =\n",
              "          document.querySelector('#df-eb642ec8-1af0-4880-b719-9105f7791d27 button.colab-df-convert');\n",
              "        buttonEl.style.display =\n",
              "          google.colab.kernel.accessAllowed ? 'block' : 'none';\n",
              "\n",
              "        async function convertToInteractive(key) {\n",
              "          const element = document.querySelector('#df-eb642ec8-1af0-4880-b719-9105f7791d27');\n",
              "          const dataTable =\n",
              "            await google.colab.kernel.invokeFunction('convertToInteractive',\n",
              "                                                     [key], {});\n",
              "          if (!dataTable) return;\n",
              "\n",
              "          const docLinkHtml = 'Like what you see? Visit the ' +\n",
              "            '<a target=\"_blank\" href=https://colab.research.google.com/notebooks/data_table.ipynb>data table notebook</a>'\n",
              "            + ' to learn more about interactive tables.';\n",
              "          element.innerHTML = '';\n",
              "          dataTable['output_type'] = 'display_data';\n",
              "          await google.colab.output.renderOutput(dataTable, element);\n",
              "          const docLink = document.createElement('div');\n",
              "          docLink.innerHTML = docLinkHtml;\n",
              "          element.appendChild(docLink);\n",
              "        }\n",
              "      </script>\n",
              "    </div>\n",
              "  </div>\n",
              "  "
            ]
          },
          "metadata": {},
          "execution_count": 20
        }
      ]
    },
    {
      "cell_type": "code",
      "execution_count": null,
      "metadata": {
        "colab": {
          "base_uri": "https://localhost:8080/",
          "height": 87
        },
        "id": "5AM1lwwiR-A9",
        "outputId": "15bd46ff-5d20-4bfd-f9c4-827592ae6219"
      },
      "outputs": [
        {
          "output_type": "execute_result",
          "data": {
            "text/plain": [
              "'เรื่องนี้ส่งมาจากคุณติ๊ก เมตุนครับ คุณติ๊กเล่าว่า.. สมัยเรียน เพื่อนผมขี่มอเตอร์ไซค์ล้มตอนกลางคืน ผมก็พาเค้าไปโรงพยาบาลแถวๆ นครปฐม ที่ที่มีเสียงร่ำลือว่าผีดุนักหนา ปัจจุบันนี้กลายเป็นโรงพยาบาลร้างไปแล้ว พวกรายการผีต่างๆ ชอบไปเดินสายกัน.. มาเข้าเรื่องต่อ พอส่งเพื่อนเข้าไปทำแผลเย็บแผลเสร็จ หมอก็บอกให้นอนแอดมิทดูอาการทางสมองก่อน พยาบาลก็เข็นเพื่อนไปห้องผู้ป่วยรวม ผมก็บอกเพื่อน ‘กูกลับหอไปอาบน้ำก่อนนะ เช้าจะมาเยี่ยม แล้วจะเก็บเสื้อผ้ามานอนเป็นเพื่อน’วันต่อมาผมก็ไปนอนเฝ้าเพื่อน ก็คุยกันปกติร่าเริงดี อาการมันไม่น่าห่วง ก็เลยบอก ‘มึงนอนคนเดียวได้ใช่ป่ะ งั้นกูกลับนะ..’ มันรีบจับมือผมบอก ‘เฮ้ย! นอนเป็นเพื่อนกูหน่อยดิ นะๆ พรุ่งนี้หมอคงให้ออกแล้ว’ ผมก็ตกลง นอนก็นอน.. แล้วทีนี้ตอนกลางคืน ผมก็จะนอน เอาที่นอนปิคนิคมาด้วย กะจะปูนอนกะพื้นข้างๆ เตียงเพื่อน เพื่อนมันรีบบอก ‘มึงๆ เดี๋ยวดึกๆ พอพยาบาลไม่เข้าตรวจแล้ว มึงขึ้นมานอนกะกูบนเตียงนี่’ ผมก็บอก ‘ไม่เอา จะให้นอนเบียดกันทำไมวะ? กูเอาที่นอนมา เดี๋ยวนอนพื้น!’ เพื่อนมันก็บอก ‘เอาน่า นอนกะกูนะๆๆ ผมก็ปฏิเสธไปอีก ‘ไม่เอา กูจะปูที่นอนแล้ว ง่วง’ มันรีบดึงมือผมบอก ‘งั้นมึงนั่งหลับข้างๆ เตียงกูนะเพื่อน นะๆ’ ผมชักสงสัย มันเป็นห่าอะไรของมัน เลยถามไปตรงๆ ‘มึงเล่ามา มีอะไร?’ มันก็พูดไม่ค่อยเต็มเสียง บอกประมาณว่า เมื่อคืนมันนอนไม่หลับเลย เหมือนมีหนู หรือแมลงอะไรไม่รู้ใต้เตียง เสียงดังตลอดทั้งคืนเลย บางทีก็ชนขาเตียงจนสั่น นอนไม่หลับ.. ผมก้มลงไปมองใต้เตียงก็ไม่เห็นมีอะไร เลยบอก ‘คิดมาก รถล้มสมองกระทบกระเทือนแล้วมึงอ่ะ!’ แต่ด้วยความรำคาญ ผมก็เลยนั่งข้างเตียงมัน แล้วเอาหน้าฟุบลงที่นอน หลับไปด้วยความง่วง..รู้สึกตัวอีกที ผมปวดหลังไปหมด สงสัยจะก้มนอนนานไปหน่อย ไม่เอาละ ปูที่นอนนอนพื้นดีกว่า ว่าแล้วก็จัดแจงปูที่นอน ก่อนล้มตัวนอน ก็มองไปที่เพื่อนเห็นมันหลับสบายกรนเบาๆ ผมล้มตัวลงนอน กำลังจะหลับ ก็ได้ยินเสียง ‘แกร๊กๆๆ’ ใต้เตียง เหมือนหนูหรือตัวอะไรกำลังเอาฟันแทะๆ บางอย่างอยู่ ดังแกร๊กๆๆ จนน่ารำคาญ เหมือนที่เพื่อนบอกจริงๆด้วย ผมเลยลืมตา หันไปมองใต้เตียงว่ามันหนูหรือตัวอะไรมาแทะอยู่ได้ พอหันไปก็เจอต้นตอของเสียงจริงๆ แต่มันไม่ใช่หนู.. เท่านั้นล่ะ ผมรีบถีบตัวลุกขึ้นมา แล้วปลุกเพื่อนปรากฏ เพื่อนมันตื่นลืมตาอยู่แล้ว มันบอกผมก่อนเลย ‘มึงเห็นหนูใช่เปล่า? กูได้ยินเสียงมันแทะอะไรอีกแล้ว..’ ผมบอก ‘เออ..แต่มันไม่ใช่หนูว่ะ มึงลุกไหวเปล่า?’ มันบอกไหว ผมเลยรีบคว้าเสาน้ำเกลือ แล้วจูงมันออกมาจากเตียงไปนั่งหน้าห้องพยาบาล พยาบาลก็ว่าอีก บอกให้กลับไปนอนที่เตียง ผมบอกไม่ไปอ่ะ ผมจะนั่งตรงนี้จนเช้า พยาบาลก็ไล่ให้กลับไปที่เตียงอีก จนต้องยอมกลับไป เพื่อนก็ถาม มึงเป็นอะไรวะ? ผมบอก เดี๋ยวค่อยบอก.. คืนนั้น ผมไม่ได้หลับเลย ให้เพื่อนนอนที่เตียง ส่วนผมนั่งกับมันบนเตียง งอขาไม่กล้าเอาขาลงเลย นั่งสัปหงกอยู่อย่างนั้นจนเช้า ไอ้เสียง ‘แกร๊กๆ’ นั่นก็ยังคงดังเป็นระยะๆ ไม่ขาดเหมือนกันจนรุ่งขึ้น หมอสั่งให้ออกจากโรงพยาบาลได้ ผมนี่โล่งใจเลย ไม่ต้องนอนเฝ้าอีกคืน ไม่งั้นตายแน่ๆ ขากลับ เพื่อนมันก็ถาม ‘มึงเป็นอะไรวะ เห็นอะไร?’ ผมเลยบอกมันไป ‘เสียงที่มึงได้ยินมันไม่ใช่หนู แต่กูเห็นคนแก่ผมยาวหงอกทั้งหัว ผอมๆ ใส่ชุดคนไข้ กำลังใช้นิ้วเกาใต้เตียงมึง แกร๊กๆๆๆ เท่านั้นล่ะ กูก็ไม่อยู่แล้ว!’ ผมเล่าให้มันฟัง เพื่อนฟังแล้วก็หน้าเจื่อนไปเลย.. แล้วยังมีคนเจอกันอีกเยอะที่โรงพยาบาลนี้ รุ่นพี่ก็เคยเล่าให้ฟังว่า ตอนนั้นปวดท้องอย่างหนักตอนกลางคืน กัดฟันขี่มอเตอร์ไซค์ไปโรงพยาบาล ขณะนั่งรอหมออยู่บนรถเข็น ปรากฏ รถเข็นเปล่าๆ ที่จอดเรียงอยู่แถวนั้นก็เคลื่อนที่เองได้ ไม่มีลม พื้นไม่ลาดเอียง ไม่มีใครแกล้งแน่นอน แล้วไม่ใช่คันเดียวที่เคลื่อนที่ 2-3 คันโน่น! วิ่งวนกันไปสนุกสนานเลย รุ่นพี่บอก กูนี่หายปวดท้องอยากกลับหอเดี๋ยวนั้นเลย เฮี้ยนจริงไรจริง โรงพยาบาลนี้สุดท้ายก็ต้องปิดตัวไป เพราะไม่ค่อยมีใครอยากไปใช้บริการ'"
            ],
            "application/vnd.google.colaboratory.intrinsic+json": {
              "type": "string"
            }
          },
          "metadata": {},
          "execution_count": 21
        }
      ],
      "source": [
        "df.loc[1,'post_desc'].split('Story by')[0] #.split('Story by')[0] คือชุดคำสั่งที่ใช้ตัด"
      ]
    },
    {
      "cell_type": "code",
      "execution_count": null,
      "metadata": {
        "id": "bBXPIhbWSCSE"
      },
      "outputs": [],
      "source": [
        "df['story_cleaned'] = df.post_desc.map(lambda x: str(x).split('Story by')[0])"
      ]
    },
    {
      "cell_type": "code",
      "execution_count": null,
      "metadata": {
        "colab": {
          "base_uri": "https://localhost:8080/"
        },
        "id": "07BsJdf4l6x9",
        "outputId": "98672c88-acba-49f9-ee8a-bb90d98ed3ee"
      },
      "outputs": [
        {
          "output_type": "execute_result",
          "data": {
            "text/plain": [
              "['เรื่องนี้ส่งมาจากคุณติ๊ก เมตุนครับ ',\n",
              " 'คุณติ๊กเล่าว่า.. สมัยเรียน ',\n",
              " 'เพื่อนผมขี่มอเตอร์ไซค์ล้มตอนกลางคืน ',\n",
              " 'ผมก็พาเค้าไปโรงพยาบาลแถวๆ นครปฐม ที่ที่มีเสียงร่ำลือว่าผีดุนักหนา ปัจจุบันนี้กลายเป็นโรงพยาบาลร้างไปแล้ว ',\n",
              " 'พวกรายการผีต่างๆ ชอบไปเดินสายกัน.. มาเข้าเรื่องต่อ ',\n",
              " 'พอส่งเพื่อนเข้าไปทำแผลเย็บแผลเสร็จ ',\n",
              " 'หมอก็บอกให้นอนแอดมิทดูอาการทางสมองก่อน ',\n",
              " 'พยาบาลก็เข็นเพื่อนไปห้องผู้ป่วยรวม ',\n",
              " 'ผมก็บอกเพื่อน ‘กูกลับหอไปอาบน้ำก่อนนะ ',\n",
              " 'เช้าจะมาเยี่ยม ',\n",
              " 'แล้วจะเก็บเสื้อผ้ามานอนเป็นเพื่อน’วันต่อมาผมก็ไปนอนเฝ้าเพื่อน ก็คุยกันปกติร่าเริงดี ',\n",
              " 'อาการมันไม่น่าห่วง ก็เลยบอก ‘มึงนอนคนเดียวได้ใช่ป่ะ ',\n",
              " 'งั้นกูกลับนะ..’ ',\n",
              " 'มันรีบจับมือผมบอก ‘เฮ้ย! นอนเป็นเพื่อนกูหน่อยดิ นะๆ พรุ่งนี้หมอคงให้ออกแล้ว’ ผมก็ตกลง ',\n",
              " 'นอนก็นอน.. ',\n",
              " 'แล้วทีนี้ตอนกลางคืน ',\n",
              " 'ผมก็จะนอน ',\n",
              " 'เอาที่นอนปิคนิคมาด้วย ',\n",
              " 'กะจะปูนอนกะพื้นข้างๆ เตียงเพื่อน ',\n",
              " 'เพื่อนมันรีบบอก ',\n",
              " '‘มึงๆ เดี๋ยวดึกๆ พอพยาบาลไม่เข้าตรวจแล้ว ',\n",
              " 'มึงขึ้นมานอนกะกูบนเตียงนี่’ ผมก็บอก ‘ไม่เอา จะให้นอนเบียดกันทำไมวะ? ',\n",
              " 'กูเอาที่นอนมา เดี๋ยวนอนพื้น!’ ',\n",
              " 'เพื่อนมันก็บอก ‘เอาน่า นอนกะกูนะๆๆ ผมก็ปฏิเสธไปอีก ',\n",
              " '‘ไม่เอา ',\n",
              " 'กูจะปูที่นอนแล้ว ',\n",
              " 'ง่วง’ ',\n",
              " 'มันรีบดึงมือผมบอก ‘งั้นมึงนั่งหลับข้างๆ เตียงกูนะเพื่อน นะๆ’ ',\n",
              " 'ผมชักสงสัย ',\n",
              " 'มันเป็นห่าอะไรของมัน ',\n",
              " 'เลยถามไปตรงๆ ',\n",
              " '‘มึงเล่ามา ',\n",
              " 'มีอะไร?’ ',\n",
              " 'มันก็พูดไม่ค่อยเต็มเสียง บอกประมาณว่า เมื่อคืนมันนอนไม่หลับเลย ',\n",
              " 'เหมือนมีหนู หรือแมลงอะไรไม่รู้ใต้เตียง ',\n",
              " 'เสียงดังตลอดทั้งคืนเลย ',\n",
              " 'บางทีก็ชนขาเตียงจนสั่น นอนไม่หลับ.. ผมก้มลงไปมองใต้เตียงก็ไม่เห็นมีอะไร เลยบอก ‘คิดมาก ',\n",
              " 'รถล้มสมองกระทบกระเทือนแล้วมึงอ่ะ!’ แต่ด้วยความรำคาญ ',\n",
              " 'ผมก็เลยนั่งข้างเตียงมัน ',\n",
              " 'แล้วเอาหน้าฟุบลงที่นอน ',\n",
              " 'หลับไปด้วยความง่วง..รู้สึกตัวอีกที ',\n",
              " 'ผมปวดหลังไปหมด ',\n",
              " 'สงสัยจะก้มนอนนานไปหน่อย ',\n",
              " 'ไม่เอาละ ปูที่นอนนอนพื้นดีกว่า ว่าแล้วก็จัดแจงปูที่นอน ก่อนล้มตัวนอน ก็มองไปที่เพื่อนเห็นมันหลับสบายกรนเบาๆ ผมล้มตัวลงนอน กำลังจะหลับ ก็ได้ยินเสียง ',\n",
              " '‘แกร๊กๆๆ’ ใต้เตียง ',\n",
              " 'เหมือนหนูหรือตัวอะไรกำลังเอาฟันแทะๆ บางอย่างอยู่ ',\n",
              " 'ดังแกร๊กๆๆ จนน่ารำคาญ ',\n",
              " 'เหมือนที่เพื่อนบอกจริงๆด้วย ',\n",
              " 'ผมเลยลืมตา หันไปมองใต้เตียงว่ามันหนูหรือตัวอะไรมาแทะอยู่ได้ ',\n",
              " 'พอหันไปก็เจอต้นตอของเสียงจริงๆ แต่มันไม่ใช่หนู.. เท่านั้นล่ะ ',\n",
              " 'ผมรีบถีบตัวลุกขึ้นมา แล้วปลุกเพื่อนปรากฏ ',\n",
              " 'เพื่อนมันตื่นลืมตาอยู่แล้ว ',\n",
              " 'มันบอกผมก่อนเลย ',\n",
              " '‘มึงเห็นหนูใช่เปล่า? ',\n",
              " 'กูได้ยินเสียงมันแทะอะไรอีกแล้ว..’ ผมบอก ‘เออ..แต่มันไม่ใช่หนูว่ะ มึงลุกไหวเปล่า?’ ',\n",
              " 'มันบอกไหว ',\n",
              " 'ผมเลยรีบคว้าเสาน้ำเกลือ ',\n",
              " 'แล้วจูงมันออกมาจากเตียงไปนั่งหน้าห้องพยาบาล ',\n",
              " 'พยาบาลก็ว่าอีก บอกให้กลับไปนอนที่เตียง ',\n",
              " 'ผมบอกไม่ไปอ่ะ ',\n",
              " 'ผมจะนั่งตรงนี้จนเช้า พยาบาลก็ไล่ให้กลับไปที่เตียงอีก จนต้องยอมกลับไป ',\n",
              " 'เพื่อนก็ถาม ',\n",
              " 'มึงเป็นอะไรวะ? ',\n",
              " 'ผมบอก เดี๋ยวค่อยบอก.. ',\n",
              " 'คืนนั้น ผมไม่ได้หลับเลย ',\n",
              " 'ให้เพื่อนนอนที่เตียง ',\n",
              " 'ส่วนผมนั่งกับมันบนเตียง ',\n",
              " 'งอขาไม่กล้าเอาขาลงเลย ',\n",
              " 'นั่งสัปหงกอยู่อย่างนั้นจนเช้า ไอ้เสียง ',\n",
              " '‘แกร๊กๆ’ ',\n",
              " 'นั่นก็ยังคงดังเป็นระยะๆ ',\n",
              " 'ไม่ขาดเหมือนกันจนรุ่งขึ้น ',\n",
              " 'หมอสั่งให้ออกจากโรงพยาบาลได้ ',\n",
              " 'ผมนี่โล่งใจเลย ',\n",
              " 'ไม่ต้องนอนเฝ้าอีกคืน ',\n",
              " 'ไม่งั้นตายแน่ๆ ขากลับ เพื่อนมันก็ถาม ‘มึงเป็นอะไรวะ ',\n",
              " 'เห็นอะไร?’ ',\n",
              " 'ผมเลยบอกมันไป ‘เสียงที่มึงได้ยินมันไม่ใช่หนู แต่กูเห็นคนแก่ผมยาวหงอกทั้งหัว ผอมๆ ใส่ชุดคนไข้ กำลังใช้นิ้วเกาใต้เตียงมึง ',\n",
              " 'แกร๊กๆๆๆ เท่านั้นล่ะ ',\n",
              " 'กูก็ไม่อยู่แล้ว!’ ',\n",
              " 'ผมเล่าให้มันฟัง ',\n",
              " 'เพื่อนฟังแล้วก็หน้าเจื่อนไปเลย.. แล้วยังมีคนเจอกันอีกเยอะที่โรงพยาบาลนี้ รุ่นพี่ก็เคยเล่าให้ฟังว่า ตอนนั้นปวดท้องอย่างหนักตอนกลางคืน ',\n",
              " 'กัดฟันขี่มอเตอร์ไซค์ไปโรงพยาบาล ขณะนั่งรอหมออยู่บนรถเข็น ปรากฏ รถเข็นเปล่าๆ ที่จอดเรียงอยู่แถวนั้นก็เคลื่อนที่เองได้ ',\n",
              " 'ไม่มีลม ',\n",
              " 'พื้นไม่ลาดเอียง ',\n",
              " 'ไม่มีใครแกล้งแน่นอน ',\n",
              " 'แล้วไม่ใช่คันเดียวที่เคลื่อนที่ 2-3 คันโน่น! ',\n",
              " 'วิ่งวนกันไปสนุกสนานเลย ',\n",
              " 'รุ่นพี่บอก ',\n",
              " 'กูนี่หายปวดท้องอยากกลับหอเดี๋ยวนั้นเลย ',\n",
              " 'เฮี้ยนจริงไรจริง ',\n",
              " 'โรงพยาบาลนี้สุดท้ายก็ต้องปิดตัวไป ',\n",
              " 'เพราะไม่ค่อยมีใครอยากไปใช้บริการ']"
            ]
          },
          "metadata": {},
          "execution_count": 23
        }
      ],
      "source": [
        "sent_tokenize(df.loc[1,'story_cleaned'])"
      ]
    },
    {
      "cell_type": "code",
      "execution_count": null,
      "metadata": {
        "colab": {
          "base_uri": "https://localhost:8080/"
        },
        "id": "K3VJX6vgl6vU",
        "outputId": "ee2760ba-b582-432e-c2f0-1621c8f2841a"
      },
      "outputs": [
        {
          "output_type": "execute_result",
          "data": {
            "text/plain": [
              "51920"
            ]
          },
          "metadata": {},
          "execution_count": 24
        }
      ],
      "source": [
        "#นับประโยคทั้งหมด\n",
        "df['nb_sentence'] = df.story_cleaned.map(lambda x: len(sent_tokenize(x)))\n",
        "df.nb_sentence.sum()"
      ]
    },
    {
      "cell_type": "code",
      "execution_count": null,
      "metadata": {
        "colab": {
          "base_uri": "https://localhost:8080/",
          "height": 49,
          "referenced_widgets": [
            "65697395417d413bb7910daf4971dd17",
            "13a255da944c4ecfbbfcc46e250b2f60",
            "762cdc3cafb542e695ed1b8ee8d07954",
            "1f277ce3bd0844c58542fd8fc3ee737e",
            "4a709afd497e44b78184110c11b7c69e",
            "f583d2d3a9e44ed99509a0a7cfa623f4",
            "23bbe0cbfb504a10a274ceb5c4c9e733",
            "8ee2d2b1e63d4142a543042de3c36252",
            "b01aff010d014dcabf375e75bd0d58e1",
            "baf79de6879c4ce5af7eb0cc8a0119e8",
            "ff1342abaae944a7b05a8cbd636af597"
          ]
        },
        "id": "I2_fi43Cl6sT",
        "outputId": "77a47530-7ac2-4535-cf97-726088c6b0d9"
      },
      "outputs": [
        {
          "output_type": "display_data",
          "data": {
            "text/plain": [
              "  0%|          | 0/912 [00:00<?, ?it/s]"
            ],
            "application/vnd.jupyter.widget-view+json": {
              "version_major": 2,
              "version_minor": 0,
              "model_id": "65697395417d413bb7910daf4971dd17"
            }
          },
          "metadata": {}
        }
      ],
      "source": [
        "data = []\n",
        "for story in tqdm(df.story_cleaned):\n",
        "    data+=sent_tokenize(story)"
      ]
    },
    {
      "cell_type": "code",
      "execution_count": null,
      "metadata": {
        "id": "bIiE1vjUl6kX"
      },
      "outputs": [],
      "source": [
        "ghost_model = FlaxGPT2FewShot('/content/drive/MyDrive/ghostdata/model'+\"/ghost\") #LOAD"
      ]
    },
    {
      "cell_type": "code",
      "execution_count": null,
      "metadata": {
        "id": "sJlo-JVel6g9",
        "colab": {
          "base_uri": "https://localhost:8080/",
          "height": 1000
        },
        "outputId": "c1096a37-8c08-4e6b-faeb-a32dccb3877f"
      },
      "outputs": [
        {
          "metadata": {
            "tags": null
          },
          "name": "stderr",
          "output_type": "stream",
          "text": [
            "/usr/local/lib/python3.7/dist-packages/transformers/optimization.py:310: FutureWarning: This implementation of AdamW is deprecated and will be removed in a future version. Use the PyTorch implementation torch.optim.AdamW instead, or set `no_deprecation_warning=True` to disable this warning\n",
            "  FutureWarning,\n",
            "***** Running training *****\n",
            "  Num examples = 51920\n",
            "  Num Epochs = 20\n",
            "  Instantaneous batch size per device = 8\n",
            "  Total train batch size (w. parallel, distributed & accumulation) = 8\n",
            "  Gradient Accumulation steps = 1\n",
            "  Total optimization steps = 129800\n"
          ]
        },
        {
          "data": {
            "text/html": [
              "\n",
              "    <div>\n",
              "      \n",
              "      <progress value='81596' max='129800' style='width:300px; height:20px; vertical-align: middle;'></progress>\n",
              "      [ 81596/129800 12:09:58 < 7:11:15, 1.86 it/s, Epoch 12.57/20]\n",
              "    </div>\n",
              "    <table border=\"1\" class=\"dataframe\">\n",
              "  <thead>\n",
              " <tr style=\"text-align: left;\">\n",
              "      <th>Epoch</th>\n",
              "      <th>Training Loss</th>\n",
              "      <th>Validation Loss</th>\n",
              "    </tr>\n",
              "  </thead>\n",
              "  <tbody>\n",
              "    <tr>\n",
              "      <td>1</td>\n",
              "      <td>0.103700</td>\n",
              "      <td>0.089408</td>\n",
              "    </tr>\n",
              "    <tr>\n",
              "      <td>2</td>\n",
              "      <td>0.089000</td>\n",
              "      <td>0.073493</td>\n",
              "    </tr>\n",
              "    <tr>\n",
              "      <td>3</td>\n",
              "      <td>0.074200</td>\n",
              "      <td>0.059756</td>\n",
              "    </tr>\n",
              "    <tr>\n",
              "      <td>4</td>\n",
              "      <td>0.060900</td>\n",
              "      <td>0.048100</td>\n",
              "    </tr>\n",
              "    <tr>\n",
              "      <td>5</td>\n",
              "      <td>0.049600</td>\n",
              "      <td>0.039196</td>\n",
              "    </tr>\n",
              "    <tr>\n",
              "      <td>6</td>\n",
              "      <td>0.040600</td>\n",
              "      <td>0.032394</td>\n",
              "    </tr>\n",
              "    <tr>\n",
              "      <td>7</td>\n",
              "      <td>0.033800</td>\n",
              "      <td>0.027432</td>\n",
              "    </tr>\n",
              "    <tr>\n",
              "      <td>8</td>\n",
              "      <td>0.028900</td>\n",
              "      <td>0.024118</td>\n",
              "    </tr>\n",
              "    <tr>\n",
              "      <td>9</td>\n",
              "      <td>0.025600</td>\n",
              "      <td>0.021908</td>\n",
              "    </tr>\n",
              "    <tr>\n",
              "      <td>10</td>\n",
              "      <td>0.023400</td>\n",
              "      <td>0.020659</td>\n",
              "    </tr>\n",
              "    <tr>\n",
              "      <td>11</td>\n",
              "      <td>0.021900</td>\n",
              "      <td>0.019630</td>\n",
              "    </tr>\n",
              "    <tr>\n",
              "      <td>12</td>\n",
              "      <td>0.020900</td>\n",
              "      <td>0.018925</td>\n",
              "    </tr>\n",
              "  </tbody>\n",
              "</table><p>"
            ],
            "text/plain": [
              "<IPython.core.display.HTML object>"
            ]
          },
          "metadata": {},
          "output_type": "display_data"
        },
        {
          "metadata": {
            "tags": null
          },
          "name": "stderr",
          "output_type": "stream",
          "text": [
            "***** Running Evaluation *****\n",
            "  Num examples = 10384\n",
            "  Batch size = 8\n",
            "Saving model checkpoint to /content/drive/MyDrive/ghostdata/model/ghost/checkpoint-6490\n",
            "Configuration saved in /content/drive/MyDrive/ghostdata/model/ghost/checkpoint-6490/config.json\n",
            "Model weights saved in /content/drive/MyDrive/ghostdata/model/ghost/checkpoint-6490/pytorch_model.bin\n",
            "***** Running Evaluation *****\n",
            "  Num examples = 10384\n",
            "  Batch size = 8\n",
            "Saving model checkpoint to /content/drive/MyDrive/ghostdata/model/ghost/checkpoint-12980\n",
            "Configuration saved in /content/drive/MyDrive/ghostdata/model/ghost/checkpoint-12980/config.json\n",
            "Model weights saved in /content/drive/MyDrive/ghostdata/model/ghost/checkpoint-12980/pytorch_model.bin\n",
            "***** Running Evaluation *****\n",
            "  Num examples = 10384\n",
            "  Batch size = 8\n",
            "Saving model checkpoint to /content/drive/MyDrive/ghostdata/model/ghost/checkpoint-19470\n",
            "Configuration saved in /content/drive/MyDrive/ghostdata/model/ghost/checkpoint-19470/config.json\n",
            "Model weights saved in /content/drive/MyDrive/ghostdata/model/ghost/checkpoint-19470/pytorch_model.bin\n",
            "***** Running Evaluation *****\n",
            "  Num examples = 10384\n",
            "  Batch size = 8\n",
            "Saving model checkpoint to /content/drive/MyDrive/ghostdata/model/ghost/checkpoint-25960\n",
            "Configuration saved in /content/drive/MyDrive/ghostdata/model/ghost/checkpoint-25960/config.json\n",
            "Model weights saved in /content/drive/MyDrive/ghostdata/model/ghost/checkpoint-25960/pytorch_model.bin\n",
            "***** Running Evaluation *****\n",
            "  Num examples = 10384\n",
            "  Batch size = 8\n",
            "Saving model checkpoint to /content/drive/MyDrive/ghostdata/model/ghost/checkpoint-32450\n",
            "Configuration saved in /content/drive/MyDrive/ghostdata/model/ghost/checkpoint-32450/config.json\n",
            "Model weights saved in /content/drive/MyDrive/ghostdata/model/ghost/checkpoint-32450/pytorch_model.bin\n",
            "***** Running Evaluation *****\n",
            "  Num examples = 10384\n",
            "  Batch size = 8\n",
            "Saving model checkpoint to /content/drive/MyDrive/ghostdata/model/ghost/checkpoint-38940\n",
            "Configuration saved in /content/drive/MyDrive/ghostdata/model/ghost/checkpoint-38940/config.json\n",
            "Model weights saved in /content/drive/MyDrive/ghostdata/model/ghost/checkpoint-38940/pytorch_model.bin\n",
            "***** Running Evaluation *****\n",
            "  Num examples = 10384\n",
            "  Batch size = 8\n",
            "Saving model checkpoint to /content/drive/MyDrive/ghostdata/model/ghost/checkpoint-45430\n",
            "Configuration saved in /content/drive/MyDrive/ghostdata/model/ghost/checkpoint-45430/config.json\n",
            "Model weights saved in /content/drive/MyDrive/ghostdata/model/ghost/checkpoint-45430/pytorch_model.bin\n",
            "***** Running Evaluation *****\n",
            "  Num examples = 10384\n",
            "  Batch size = 8\n",
            "Saving model checkpoint to /content/drive/MyDrive/ghostdata/model/ghost/checkpoint-51920\n",
            "Configuration saved in /content/drive/MyDrive/ghostdata/model/ghost/checkpoint-51920/config.json\n",
            "Model weights saved in /content/drive/MyDrive/ghostdata/model/ghost/checkpoint-51920/pytorch_model.bin\n",
            "***** Running Evaluation *****\n",
            "  Num examples = 10384\n",
            "  Batch size = 8\n",
            "Saving model checkpoint to /content/drive/MyDrive/ghostdata/model/ghost/checkpoint-58410\n",
            "Configuration saved in /content/drive/MyDrive/ghostdata/model/ghost/checkpoint-58410/config.json\n",
            "Model weights saved in /content/drive/MyDrive/ghostdata/model/ghost/checkpoint-58410/pytorch_model.bin\n",
            "***** Running Evaluation *****\n",
            "  Num examples = 10384\n",
            "  Batch size = 8\n",
            "Saving model checkpoint to /content/drive/MyDrive/ghostdata/model/ghost/checkpoint-64900\n",
            "Configuration saved in /content/drive/MyDrive/ghostdata/model/ghost/checkpoint-64900/config.json\n",
            "Model weights saved in /content/drive/MyDrive/ghostdata/model/ghost/checkpoint-64900/pytorch_model.bin\n",
            "***** Running Evaluation *****\n",
            "  Num examples = 10384\n",
            "  Batch size = 8\n",
            "Saving model checkpoint to /content/drive/MyDrive/ghostdata/model/ghost/checkpoint-71390\n",
            "Configuration saved in /content/drive/MyDrive/ghostdata/model/ghost/checkpoint-71390/config.json\n",
            "Model weights saved in /content/drive/MyDrive/ghostdata/model/ghost/checkpoint-71390/pytorch_model.bin\n",
            "***** Running Evaluation *****\n",
            "  Num examples = 10384\n",
            "  Batch size = 8\n",
            "Saving model checkpoint to /content/drive/MyDrive/ghostdata/model/ghost/checkpoint-77880\n",
            "Configuration saved in /content/drive/MyDrive/ghostdata/model/ghost/checkpoint-77880/config.json\n",
            "Model weights saved in /content/drive/MyDrive/ghostdata/model/ghost/checkpoint-77880/pytorch_model.bin\n"
          ]
        },
        {
          "output_type": "display_data",
          "data": {
            "text/plain": [
              "<IPython.core.display.HTML object>"
            ],
            "text/html": [
              "\n",
              "    <div>\n",
              "      \n",
              "      <progress value='129800' max='129800' style='width:300px; height:20px; vertical-align: middle;'></progress>\n",
              "      [129800/129800 19:23:17, Epoch 20/20]\n",
              "    </div>\n",
              "    <table border=\"1\" class=\"dataframe\">\n",
              "  <thead>\n",
              " <tr style=\"text-align: left;\">\n",
              "      <th>Epoch</th>\n",
              "      <th>Training Loss</th>\n",
              "      <th>Validation Loss</th>\n",
              "    </tr>\n",
              "  </thead>\n",
              "  <tbody>\n",
              "    <tr>\n",
              "      <td>1</td>\n",
              "      <td>0.103700</td>\n",
              "      <td>0.089408</td>\n",
              "    </tr>\n",
              "    <tr>\n",
              "      <td>2</td>\n",
              "      <td>0.089000</td>\n",
              "      <td>0.073493</td>\n",
              "    </tr>\n",
              "    <tr>\n",
              "      <td>3</td>\n",
              "      <td>0.074200</td>\n",
              "      <td>0.059756</td>\n",
              "    </tr>\n",
              "    <tr>\n",
              "      <td>4</td>\n",
              "      <td>0.060900</td>\n",
              "      <td>0.048100</td>\n",
              "    </tr>\n",
              "    <tr>\n",
              "      <td>5</td>\n",
              "      <td>0.049600</td>\n",
              "      <td>0.039196</td>\n",
              "    </tr>\n",
              "    <tr>\n",
              "      <td>6</td>\n",
              "      <td>0.040600</td>\n",
              "      <td>0.032394</td>\n",
              "    </tr>\n",
              "    <tr>\n",
              "      <td>7</td>\n",
              "      <td>0.033800</td>\n",
              "      <td>0.027432</td>\n",
              "    </tr>\n",
              "    <tr>\n",
              "      <td>8</td>\n",
              "      <td>0.028900</td>\n",
              "      <td>0.024118</td>\n",
              "    </tr>\n",
              "    <tr>\n",
              "      <td>9</td>\n",
              "      <td>0.025600</td>\n",
              "      <td>0.021908</td>\n",
              "    </tr>\n",
              "    <tr>\n",
              "      <td>10</td>\n",
              "      <td>0.023400</td>\n",
              "      <td>0.020659</td>\n",
              "    </tr>\n",
              "    <tr>\n",
              "      <td>11</td>\n",
              "      <td>0.021900</td>\n",
              "      <td>0.019630</td>\n",
              "    </tr>\n",
              "    <tr>\n",
              "      <td>12</td>\n",
              "      <td>0.020900</td>\n",
              "      <td>0.018925</td>\n",
              "    </tr>\n",
              "    <tr>\n",
              "      <td>13</td>\n",
              "      <td>0.020200</td>\n",
              "      <td>0.018408</td>\n",
              "    </tr>\n",
              "    <tr>\n",
              "      <td>14</td>\n",
              "      <td>0.019500</td>\n",
              "      <td>0.018041</td>\n",
              "    </tr>\n",
              "    <tr>\n",
              "      <td>15</td>\n",
              "      <td>0.019000</td>\n",
              "      <td>0.017637</td>\n",
              "    </tr>\n",
              "    <tr>\n",
              "      <td>16</td>\n",
              "      <td>0.018600</td>\n",
              "      <td>0.017307</td>\n",
              "    </tr>\n",
              "    <tr>\n",
              "      <td>17</td>\n",
              "      <td>0.018100</td>\n",
              "      <td>0.017026</td>\n",
              "    </tr>\n",
              "    <tr>\n",
              "      <td>18</td>\n",
              "      <td>0.017700</td>\n",
              "      <td>0.016817</td>\n",
              "    </tr>\n",
              "    <tr>\n",
              "      <td>19</td>\n",
              "      <td>0.017200</td>\n",
              "      <td>0.016618</td>\n",
              "    </tr>\n",
              "    <tr>\n",
              "      <td>20</td>\n",
              "      <td>0.016800</td>\n",
              "      <td>0.016527</td>\n",
              "    </tr>\n",
              "  </tbody>\n",
              "</table><p>"
            ]
          },
          "metadata": {}
        },
        {
          "output_type": "stream",
          "name": "stderr",
          "text": [
            "***** Running Evaluation *****\n",
            "  Num examples = 10384\n",
            "  Batch size = 8\n",
            "Saving model checkpoint to /content/drive/MyDrive/ghostdata/model/ghost/checkpoint-84370\n",
            "Configuration saved in /content/drive/MyDrive/ghostdata/model/ghost/checkpoint-84370/config.json\n",
            "Model weights saved in /content/drive/MyDrive/ghostdata/model/ghost/checkpoint-84370/pytorch_model.bin\n",
            "***** Running Evaluation *****\n",
            "  Num examples = 10384\n",
            "  Batch size = 8\n",
            "Saving model checkpoint to /content/drive/MyDrive/ghostdata/model/ghost/checkpoint-90860\n",
            "Configuration saved in /content/drive/MyDrive/ghostdata/model/ghost/checkpoint-90860/config.json\n",
            "Model weights saved in /content/drive/MyDrive/ghostdata/model/ghost/checkpoint-90860/pytorch_model.bin\n",
            "***** Running Evaluation *****\n",
            "  Num examples = 10384\n",
            "  Batch size = 8\n",
            "Saving model checkpoint to /content/drive/MyDrive/ghostdata/model/ghost/checkpoint-97350\n",
            "Configuration saved in /content/drive/MyDrive/ghostdata/model/ghost/checkpoint-97350/config.json\n",
            "Model weights saved in /content/drive/MyDrive/ghostdata/model/ghost/checkpoint-97350/pytorch_model.bin\n",
            "***** Running Evaluation *****\n",
            "  Num examples = 10384\n",
            "  Batch size = 8\n",
            "Saving model checkpoint to /content/drive/MyDrive/ghostdata/model/ghost/checkpoint-103840\n",
            "Configuration saved in /content/drive/MyDrive/ghostdata/model/ghost/checkpoint-103840/config.json\n",
            "Model weights saved in /content/drive/MyDrive/ghostdata/model/ghost/checkpoint-103840/pytorch_model.bin\n",
            "***** Running Evaluation *****\n",
            "  Num examples = 10384\n",
            "  Batch size = 8\n",
            "Saving model checkpoint to /content/drive/MyDrive/ghostdata/model/ghost/checkpoint-110330\n",
            "Configuration saved in /content/drive/MyDrive/ghostdata/model/ghost/checkpoint-110330/config.json\n",
            "Model weights saved in /content/drive/MyDrive/ghostdata/model/ghost/checkpoint-110330/pytorch_model.bin\n",
            "***** Running Evaluation *****\n",
            "  Num examples = 10384\n",
            "  Batch size = 8\n",
            "Saving model checkpoint to /content/drive/MyDrive/ghostdata/model/ghost/checkpoint-116820\n",
            "Configuration saved in /content/drive/MyDrive/ghostdata/model/ghost/checkpoint-116820/config.json\n",
            "Model weights saved in /content/drive/MyDrive/ghostdata/model/ghost/checkpoint-116820/pytorch_model.bin\n",
            "***** Running Evaluation *****\n",
            "  Num examples = 10384\n",
            "  Batch size = 8\n",
            "Saving model checkpoint to /content/drive/MyDrive/ghostdata/model/ghost/checkpoint-123310\n",
            "Configuration saved in /content/drive/MyDrive/ghostdata/model/ghost/checkpoint-123310/config.json\n",
            "Model weights saved in /content/drive/MyDrive/ghostdata/model/ghost/checkpoint-123310/pytorch_model.bin\n",
            "***** Running Evaluation *****\n",
            "  Num examples = 10384\n",
            "  Batch size = 8\n",
            "Saving model checkpoint to /content/drive/MyDrive/ghostdata/model/ghost/checkpoint-129800\n",
            "Configuration saved in /content/drive/MyDrive/ghostdata/model/ghost/checkpoint-129800/config.json\n",
            "Model weights saved in /content/drive/MyDrive/ghostdata/model/ghost/checkpoint-129800/pytorch_model.bin\n",
            "\n",
            "\n",
            "Training completed. Do not forget to share your model on huggingface.co/models =)\n",
            "\n",
            "\n",
            "***** Running Evaluation *****\n",
            "  Num examples = 10384\n",
            "  Batch size = 8\n"
          ]
        },
        {
          "output_type": "display_data",
          "data": {
            "text/plain": [
              "<IPython.core.display.HTML object>"
            ],
            "text/html": [
              "\n",
              "    <div>\n",
              "      \n",
              "      <progress value='1298' max='1298' style='width:300px; height:20px; vertical-align: middle;'></progress>\n",
              "      [1298/1298 03:27]\n",
              "    </div>\n",
              "    "
            ]
          },
          "metadata": {}
        },
        {
          "output_type": "stream",
          "name": "stderr",
          "text": [
            "Saving model checkpoint to /content/drive/MyDrive/ghostdata/model/ghost\n",
            "Configuration saved in /content/drive/MyDrive/ghostdata/model/ghost/config.json\n",
            "Model weights saved in /content/drive/MyDrive/ghostdata/model/ghost/pytorch_model.bin\n"
          ]
        }
      ],
      "source": [
        "ghost_model.train(\n",
        "    data,\n",
        "    logging_dir='./log_model_flex',\n",
        "    num_train_epochs=20,\n",
        "    train_size=0.8,\n",
        "    batch_size=8,\n",
        ")"
      ]
    },
    {
      "cell_type": "code",
      "execution_count": null,
      "metadata": {
        "id": "evTujiRDNESc",
        "colab": {
          "base_uri": "https://localhost:8080/"
        },
        "outputId": "79057ec7-0d5b-4636-c948-b71665936b91"
      },
      "outputs": [
        {
          "output_type": "stream",
          "name": "stderr",
          "text": [
            "tokenizer config file saved in /content/drive/MyDrive/ghostdata/model/ghost/tokenizer_config.json\n",
            "Special tokens file saved in /content/drive/MyDrive/ghostdata/model/ghost/special_tokens_map.json\n",
            "added tokens file saved in /content/drive/MyDrive/ghostdata/model/ghost/added_tokens.json\n",
            "Configuration saved in /content/drive/MyDrive/ghostdata/model/ghost/config.json\n",
            "Model weights saved in /content/drive/MyDrive/ghostdata/model/ghost/pytorch_model.bin\n"
          ]
        }
      ],
      "source": [
        "ghost_model.tokenizer.save_pretrained('/content/drive/MyDrive/ghostdata/model'+\"/ghost\") #SAVE\n",
        "ghost_model.model.save_pretrained('/content/drive/MyDrive/ghostdata/model'+\"/ghost\") "
      ]
    },
    {
      "cell_type": "code",
      "execution_count": null,
      "metadata": {
        "id": "DG5mcc3ml6dd",
        "colab": {
          "base_uri": "https://localhost:8080/"
        },
        "outputId": "2a668dc6-b9f0-4e51-f050-de3be9037f64"
      },
      "outputs": [
        {
          "output_type": "stream",
          "name": "stderr",
          "text": [
            "The attention mask and the pad token id were not set. As a consequence, you may observe unexpected behavior. Please pass your input's `attention_mask` to obtain reliable results.\n",
            "Setting `pad_token_id` to `eos_token_id`:50256 for open-end generation.\n"
          ]
        },
        {
          "output_type": "execute_result",
          "data": {
            "text/plain": [
              "['กลางดึกคืนหนึ่งเมื่อตอนตี3 โสธรซึ่ongs ·\\xa014 juilochallenge– · ·กาลครั้งหนึ่งหนึ่งพันปีแสนเก้า onacci\\uf712กจากโรงพยาบาลรถไฟรถไฟรถไฟี’ องจริงหรือเปล่ามั้ยเอิง        aux du du du du du du du du du du du du du du du du du du du du du du du du du du du du du du du du du du du du du du du du du du du du du du du du du du du du du du du du du du du du du du du du du du du du du du du du du du du du du du du du du du du du du du du du du du du du du du du du du du du du du du du du du du du du du du du du du du du du du du du du du du du du du du du du du du du du du du du du du du du du du du du du du du']"
            ]
          },
          "metadata": {},
          "execution_count": 27
        }
      ],
      "source": [
        "ghost_model.gen(\"กลางดึกคืนหนึ่งเมื่อตอนตี3 \", max_length=500, num_return_sequences=1)"
      ]
    },
    {
      "cell_type": "markdown",
      "source": [
        "+checkpoint"
      ],
      "metadata": {
        "id": "f0xoiQCGbCKZ"
      }
    },
    {
      "cell_type": "code",
      "source": [
        "ghost_model = FlaxGPT2FewShot(\"./content/drive/MyDrive/ghostdata/model\"+\"/ghostcheckpoint-123310\")"
      ],
      "metadata": {
        "id": "V1hHXfb6mEp7"
      },
      "execution_count": null,
      "outputs": []
    },
    {
      "cell_type": "code",
      "source": [
        "ghost_model.gen(\"กลางดึกคืนหนึ่งเมื่อตอนตี3\", max_length=500, num_return_sequences=1)"
      ],
      "metadata": {
        "colab": {
          "base_uri": "https://localhost:8080/"
        },
        "id": "YkHBRnbumEl6",
        "outputId": "045bb8a9-da34-454e-dcdc-18daf3dcdf7c"
      },
      "execution_count": null,
      "outputs": [
        {
          "output_type": "stream",
          "name": "stderr",
          "text": [
            "The attention mask and the pad token id were not set. As a consequence, you may observe unexpected behavior. Please pass your input's `attention_mask` to obtain reliable results.\n",
            "Setting `pad_token_id` to `eos_token_id`:50256 for open-end generation.\n"
          ]
        },
        {
          "output_type": "execute_result",
          "data": {
            "text/plain": [
              "['กลางดึกคืนหนึ่งเมื่อตอนตี3ของทุกวันเสาร์หลังภูมิใจว่าได้อยู่ในรถของเขาด้วยกันกับภูมิใจที่ได้กลับบ้านไปด้วยกัน ภูมิใจที่ติดในวัยที่เป็นตำนานของเราทุกคนจะถูกมองว่านี่อาจจะเก่งเพียงเพราะเราคือเมมเบอร์ หรือแฟนคลับอีกคนหรือเปล่า แต่ผมก็ยังคงมีความเชื่อติดในยุคนี้เหมือนเดิม กิมมิคด้านในของเธออาจไม่ใช่ผมในวัยจะดีแต่มันคือความหลงใหลหรือจินตนาการอะไรที่ยากจะเข้าถึง แต่ผมก็เลือกที่จะเก่งขึ้นจากทุกๆวัน เพราะถ้าเธอได้เข้ามาในชีวิตของผมจะเป็นเหมือนคนที่ต้องการให้ผมมีชีวิตที่ดีขึ้น และถ้าคุณไม่อยากรักเธออย่าคิดที่จะเก่งในวัยแบบนี้ ผมรู้ว่าคุณจะต้องมองหาถึงจะมีชีวิตที่ดี\\nจิตวิญญาณที่มีวิญญาณจะไม่เกิดขึ้นได้อย่างง่ายๆ เพราะการเข้าถึงในวัยผู้ใหญ่ได้มันดีกว่าไม่มีอยู่อย่างแน่นอน ไม่มีการให้อภัย แต่ก่อนผมจะเข้าสังคมได้ก็ต้องเข้าใจว่าคนคนนั้นจะรักผมไหมก็คือเธอที่ตัดสินใจจะทำอะไรหรือเข้ากับผมตลอดเวลา แต่จิตวิญญาณมันแปลกๆอยู่ทุกวันและผมก็ยังยังพอมองอะไรอื่นๆได้บ้าง\\nผมว่าเธอคือบางสิ่งบางอย่']"
            ]
          },
          "metadata": {},
          "execution_count": 34
        }
      ]
    },
    {
      "cell_type": "markdown",
      "source": [
        "**FineTune**"
      ],
      "metadata": {
        "id": "NKO6fJ0dwPA3"
      }
    },
    {
      "cell_type": "code",
      "source": [
        "import glob\n",
        "import os"
      ],
      "metadata": {
        "id": "SwwfdF_F1Joy"
      },
      "execution_count": null,
      "outputs": []
    },
    {
      "cell_type": "code",
      "source": [
        "for ghost in glob.glob('/content/drive/MyDrive/data/ghostcheckpoint-123310'):\n",
        "    if ghost.split('.')[-1]=='json':\n",
        "        os.remove(ghost)"
      ],
      "metadata": {
        "id": "mc0ro1op1Sau"
      },
      "execution_count": null,
      "outputs": []
    },
    {
      "cell_type": "code",
      "source": [
        "x = glob.glob('/content/drive/MyDrive/data/ghostcheckpoint-123310')\n",
        "x"
      ],
      "metadata": {
        "colab": {
          "base_uri": "https://localhost:8080/"
        },
        "id": "QvRgaeoo1VEf",
        "outputId": "e2d08b88-00a4-4b23-b5a8-afdad3adafd2"
      },
      "execution_count": null,
      "outputs": [
        {
          "output_type": "execute_result",
          "data": {
            "text/plain": [
              "['/content/drive/MyDrive/data/ghostcheckpoint-123310']"
            ]
          },
          "metadata": {},
          "execution_count": 46
        }
      ]
    },
    {
      "cell_type": "code",
      "source": [
        "fname =x[0]\n",
        "label = x[0].split('/')[0]\n",
        "label, fname"
      ],
      "metadata": {
        "colab": {
          "base_uri": "https://localhost:8080/"
        },
        "id": "_hg6aVPY1YlK",
        "outputId": "67b8754c-1d45-4de2-e408-8721520d3703"
      },
      "execution_count": null,
      "outputs": [
        {
          "output_type": "execute_result",
          "data": {
            "text/plain": [
              "('', '/content/drive/MyDrive/data/ghostcheckpoint-123310')"
            ]
          },
          "metadata": {},
          "execution_count": 47
        }
      ]
    },
    {
      "cell_type": "code",
      "source": [
        "ghost_model.gen(\"กลางดึกคืนหนึ่งเมื่อตอนตี3\",max_length=500,num_return_sequences=1)"
      ],
      "metadata": {
        "colab": {
          "base_uri": "https://localhost:8080/"
        },
        "id": "e3YTbQr11bOB",
        "outputId": "163b740f-5256-4701-e15f-4acfce80872b"
      },
      "execution_count": null,
      "outputs": [
        {
          "output_type": "stream",
          "name": "stderr",
          "text": [
            "The attention mask and the pad token id were not set. As a consequence, you may observe unexpected behavior. Please pass your input's `attention_mask` to obtain reliable results.\n",
            "Setting `pad_token_id` to `eos_token_id`:50256 for open-end generation.\n"
          ]
        },
        {
          "output_type": "execute_result",
          "data": {
            "text/plain": [
              "['กลางดึกคืนหนึ่งเมื่อตอนตี3ก่อนนอน แต่คืนนั้นผมสังเกตเห็นความเปลี่ยนแปลงของร่างกายที่เต้นด้วยหัวใจผมเต้นเร่าๆ อยู่ครับ หลังจากนั้นมาทุกครั้งที่ผมเดินผ่านไปยังบริเวณจุดสังเกตุที่ห้องสมุดของโรงพยาบาล จะมีคนร่ายเวทย์มนต์ด้วยกันทุกคนมันก็สนุกครับ ซึ่งก็เป็นความตั้งใจของผมที่จะเข้าไปเยี่ยมชมเว็บไซต์นี้ เพื่อที่จะทำให้การเข้าไปอ่านข้อมูลของทางห้องสมุดของโรงพยาบาลนั้นเต็มไปด้วยประสบการณ์ส่วนตัวที่น่าจะดีกว่าเพื่อจะได้ไม่ต้องถามกับเพื่อนให้รำคาญใจอะไรทั้งสิ้น ในเว็บไซต์ของทางโรงพยาบาลจะมีเนื้อหาของเอกสารประกอบการเข้าชมสัปดาห์ละอย่างน้อยหนึ่งตอนอีกเว็บไซต์หนึ่งนั้นก็ได้มีโอกาสได้เข้าไปสัมผัสความสนุกที่แตกต่างกันไป\\nหัวข้อบทความในเว็บบอร์ดแห่งนี้นั้นส่วนมากจะเป็นเรื่องที่เกี่ยวกับพระเจ้า ความรักและความจริงใจของคนเราในแต่ละวัน\\nตัวชี้วัดส่วนนี้จะเห็นได้ว่าในเรื่องที่น่าสนใจของมันนั้นก็คือ เรื่องของการพัฒนาโปรแกรมคอมพิวเตอร์ขึ้นมาครับ ซึ่งผู้ร่วมอ่านทางนี้อยู่พอสมควรครับ เนื้อหาในเว็บนี้พูดได้ว่าเป็นวิวัฒนาการของมันครับ ตั้งแต่การออกแบบที่อยู่อาศัยและศิลปกรรมจนถึงการนำเสนอมุมมองของแต่ละด้านเพื่อนำมาประกอบการเขียน']"
            ]
          },
          "metadata": {},
          "execution_count": 50
        }
      ]
    }
  ],
  "metadata": {
    "accelerator": "GPU",
    "colab": {
      "provenance": [],
      "collapsed_sections": [
        "KlP-Zi7fiFzU"
      ],
      "include_colab_link": true
    },
    "gpuClass": "standard",
    "kernelspec": {
      "display_name": "Python 3",
      "name": "python3"
    },
    "language_info": {
      "name": "python"
    },
    "widgets": {
      "application/vnd.jupyter.widget-state+json": {
        "65697395417d413bb7910daf4971dd17": {
          "model_module": "@jupyter-widgets/controls",
          "model_name": "HBoxModel",
          "model_module_version": "1.5.0",
          "state": {
            "_dom_classes": [],
            "_model_module": "@jupyter-widgets/controls",
            "_model_module_version": "1.5.0",
            "_model_name": "HBoxModel",
            "_view_count": null,
            "_view_module": "@jupyter-widgets/controls",
            "_view_module_version": "1.5.0",
            "_view_name": "HBoxView",
            "box_style": "",
            "children": [
              "IPY_MODEL_13a255da944c4ecfbbfcc46e250b2f60",
              "IPY_MODEL_762cdc3cafb542e695ed1b8ee8d07954",
              "IPY_MODEL_1f277ce3bd0844c58542fd8fc3ee737e"
            ],
            "layout": "IPY_MODEL_4a709afd497e44b78184110c11b7c69e"
          }
        },
        "13a255da944c4ecfbbfcc46e250b2f60": {
          "model_module": "@jupyter-widgets/controls",
          "model_name": "HTMLModel",
          "model_module_version": "1.5.0",
          "state": {
            "_dom_classes": [],
            "_model_module": "@jupyter-widgets/controls",
            "_model_module_version": "1.5.0",
            "_model_name": "HTMLModel",
            "_view_count": null,
            "_view_module": "@jupyter-widgets/controls",
            "_view_module_version": "1.5.0",
            "_view_name": "HTMLView",
            "description": "",
            "description_tooltip": null,
            "layout": "IPY_MODEL_f583d2d3a9e44ed99509a0a7cfa623f4",
            "placeholder": "​",
            "style": "IPY_MODEL_23bbe0cbfb504a10a274ceb5c4c9e733",
            "value": "100%"
          }
        },
        "762cdc3cafb542e695ed1b8ee8d07954": {
          "model_module": "@jupyter-widgets/controls",
          "model_name": "FloatProgressModel",
          "model_module_version": "1.5.0",
          "state": {
            "_dom_classes": [],
            "_model_module": "@jupyter-widgets/controls",
            "_model_module_version": "1.5.0",
            "_model_name": "FloatProgressModel",
            "_view_count": null,
            "_view_module": "@jupyter-widgets/controls",
            "_view_module_version": "1.5.0",
            "_view_name": "ProgressView",
            "bar_style": "success",
            "description": "",
            "description_tooltip": null,
            "layout": "IPY_MODEL_8ee2d2b1e63d4142a543042de3c36252",
            "max": 912,
            "min": 0,
            "orientation": "horizontal",
            "style": "IPY_MODEL_b01aff010d014dcabf375e75bd0d58e1",
            "value": 912
          }
        },
        "1f277ce3bd0844c58542fd8fc3ee737e": {
          "model_module": "@jupyter-widgets/controls",
          "model_name": "HTMLModel",
          "model_module_version": "1.5.0",
          "state": {
            "_dom_classes": [],
            "_model_module": "@jupyter-widgets/controls",
            "_model_module_version": "1.5.0",
            "_model_name": "HTMLModel",
            "_view_count": null,
            "_view_module": "@jupyter-widgets/controls",
            "_view_module_version": "1.5.0",
            "_view_name": "HTMLView",
            "description": "",
            "description_tooltip": null,
            "layout": "IPY_MODEL_baf79de6879c4ce5af7eb0cc8a0119e8",
            "placeholder": "​",
            "style": "IPY_MODEL_ff1342abaae944a7b05a8cbd636af597",
            "value": " 912/912 [01:00&lt;00:00, 21.33it/s]"
          }
        },
        "4a709afd497e44b78184110c11b7c69e": {
          "model_module": "@jupyter-widgets/base",
          "model_name": "LayoutModel",
          "model_module_version": "1.2.0",
          "state": {
            "_model_module": "@jupyter-widgets/base",
            "_model_module_version": "1.2.0",
            "_model_name": "LayoutModel",
            "_view_count": null,
            "_view_module": "@jupyter-widgets/base",
            "_view_module_version": "1.2.0",
            "_view_name": "LayoutView",
            "align_content": null,
            "align_items": null,
            "align_self": null,
            "border": null,
            "bottom": null,
            "display": null,
            "flex": null,
            "flex_flow": null,
            "grid_area": null,
            "grid_auto_columns": null,
            "grid_auto_flow": null,
            "grid_auto_rows": null,
            "grid_column": null,
            "grid_gap": null,
            "grid_row": null,
            "grid_template_areas": null,
            "grid_template_columns": null,
            "grid_template_rows": null,
            "height": null,
            "justify_content": null,
            "justify_items": null,
            "left": null,
            "margin": null,
            "max_height": null,
            "max_width": null,
            "min_height": null,
            "min_width": null,
            "object_fit": null,
            "object_position": null,
            "order": null,
            "overflow": null,
            "overflow_x": null,
            "overflow_y": null,
            "padding": null,
            "right": null,
            "top": null,
            "visibility": null,
            "width": null
          }
        },
        "f583d2d3a9e44ed99509a0a7cfa623f4": {
          "model_module": "@jupyter-widgets/base",
          "model_name": "LayoutModel",
          "model_module_version": "1.2.0",
          "state": {
            "_model_module": "@jupyter-widgets/base",
            "_model_module_version": "1.2.0",
            "_model_name": "LayoutModel",
            "_view_count": null,
            "_view_module": "@jupyter-widgets/base",
            "_view_module_version": "1.2.0",
            "_view_name": "LayoutView",
            "align_content": null,
            "align_items": null,
            "align_self": null,
            "border": null,
            "bottom": null,
            "display": null,
            "flex": null,
            "flex_flow": null,
            "grid_area": null,
            "grid_auto_columns": null,
            "grid_auto_flow": null,
            "grid_auto_rows": null,
            "grid_column": null,
            "grid_gap": null,
            "grid_row": null,
            "grid_template_areas": null,
            "grid_template_columns": null,
            "grid_template_rows": null,
            "height": null,
            "justify_content": null,
            "justify_items": null,
            "left": null,
            "margin": null,
            "max_height": null,
            "max_width": null,
            "min_height": null,
            "min_width": null,
            "object_fit": null,
            "object_position": null,
            "order": null,
            "overflow": null,
            "overflow_x": null,
            "overflow_y": null,
            "padding": null,
            "right": null,
            "top": null,
            "visibility": null,
            "width": null
          }
        },
        "23bbe0cbfb504a10a274ceb5c4c9e733": {
          "model_module": "@jupyter-widgets/controls",
          "model_name": "DescriptionStyleModel",
          "model_module_version": "1.5.0",
          "state": {
            "_model_module": "@jupyter-widgets/controls",
            "_model_module_version": "1.5.0",
            "_model_name": "DescriptionStyleModel",
            "_view_count": null,
            "_view_module": "@jupyter-widgets/base",
            "_view_module_version": "1.2.0",
            "_view_name": "StyleView",
            "description_width": ""
          }
        },
        "8ee2d2b1e63d4142a543042de3c36252": {
          "model_module": "@jupyter-widgets/base",
          "model_name": "LayoutModel",
          "model_module_version": "1.2.0",
          "state": {
            "_model_module": "@jupyter-widgets/base",
            "_model_module_version": "1.2.0",
            "_model_name": "LayoutModel",
            "_view_count": null,
            "_view_module": "@jupyter-widgets/base",
            "_view_module_version": "1.2.0",
            "_view_name": "LayoutView",
            "align_content": null,
            "align_items": null,
            "align_self": null,
            "border": null,
            "bottom": null,
            "display": null,
            "flex": null,
            "flex_flow": null,
            "grid_area": null,
            "grid_auto_columns": null,
            "grid_auto_flow": null,
            "grid_auto_rows": null,
            "grid_column": null,
            "grid_gap": null,
            "grid_row": null,
            "grid_template_areas": null,
            "grid_template_columns": null,
            "grid_template_rows": null,
            "height": null,
            "justify_content": null,
            "justify_items": null,
            "left": null,
            "margin": null,
            "max_height": null,
            "max_width": null,
            "min_height": null,
            "min_width": null,
            "object_fit": null,
            "object_position": null,
            "order": null,
            "overflow": null,
            "overflow_x": null,
            "overflow_y": null,
            "padding": null,
            "right": null,
            "top": null,
            "visibility": null,
            "width": null
          }
        },
        "b01aff010d014dcabf375e75bd0d58e1": {
          "model_module": "@jupyter-widgets/controls",
          "model_name": "ProgressStyleModel",
          "model_module_version": "1.5.0",
          "state": {
            "_model_module": "@jupyter-widgets/controls",
            "_model_module_version": "1.5.0",
            "_model_name": "ProgressStyleModel",
            "_view_count": null,
            "_view_module": "@jupyter-widgets/base",
            "_view_module_version": "1.2.0",
            "_view_name": "StyleView",
            "bar_color": null,
            "description_width": ""
          }
        },
        "baf79de6879c4ce5af7eb0cc8a0119e8": {
          "model_module": "@jupyter-widgets/base",
          "model_name": "LayoutModel",
          "model_module_version": "1.2.0",
          "state": {
            "_model_module": "@jupyter-widgets/base",
            "_model_module_version": "1.2.0",
            "_model_name": "LayoutModel",
            "_view_count": null,
            "_view_module": "@jupyter-widgets/base",
            "_view_module_version": "1.2.0",
            "_view_name": "LayoutView",
            "align_content": null,
            "align_items": null,
            "align_self": null,
            "border": null,
            "bottom": null,
            "display": null,
            "flex": null,
            "flex_flow": null,
            "grid_area": null,
            "grid_auto_columns": null,
            "grid_auto_flow": null,
            "grid_auto_rows": null,
            "grid_column": null,
            "grid_gap": null,
            "grid_row": null,
            "grid_template_areas": null,
            "grid_template_columns": null,
            "grid_template_rows": null,
            "height": null,
            "justify_content": null,
            "justify_items": null,
            "left": null,
            "margin": null,
            "max_height": null,
            "max_width": null,
            "min_height": null,
            "min_width": null,
            "object_fit": null,
            "object_position": null,
            "order": null,
            "overflow": null,
            "overflow_x": null,
            "overflow_y": null,
            "padding": null,
            "right": null,
            "top": null,
            "visibility": null,
            "width": null
          }
        },
        "ff1342abaae944a7b05a8cbd636af597": {
          "model_module": "@jupyter-widgets/controls",
          "model_name": "DescriptionStyleModel",
          "model_module_version": "1.5.0",
          "state": {
            "_model_module": "@jupyter-widgets/controls",
            "_model_module_version": "1.5.0",
            "_model_name": "DescriptionStyleModel",
            "_view_count": null,
            "_view_module": "@jupyter-widgets/base",
            "_view_module_version": "1.2.0",
            "_view_name": "StyleView",
            "description_width": ""
          }
        }
      }
    }
  },
  "nbformat": 4,
  "nbformat_minor": 0
}